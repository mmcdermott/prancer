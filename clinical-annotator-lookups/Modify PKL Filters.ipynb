{
 "cells": [
  {
   "cell_type": "code",
   "execution_count": 1,
   "id": "d8fbd676",
   "metadata": {},
   "outputs": [],
   "source": [
    "import pickle, os\n",
    "from shutil import copyfile"
   ]
  },
  {
   "cell_type": "code",
   "execution_count": 2,
   "id": "7f70eb14",
   "metadata": {},
   "outputs": [],
   "source": [
    "FILENAMES = [\n",
    "    'color_lookup.pk',\n",
    "    'index_snomed.pk',\n",
    "    'suggestions.pk',\n",
    "    'type_tui_lookup.pk',\n",
    "    'umls_lookup_snomed.pk',\n",
    "]"
   ]
  },
  {
   "cell_type": "code",
   "execution_count": 5,
   "id": "877c36cc",
   "metadata": {},
   "outputs": [],
   "source": [
    "files = {}\n",
    "for fn in FILENAMES:\n",
    "    bkp_fn = f\"{fn}.bkp\"\n",
    "    if os.path.isfile(bkp_fn):\n",
    "        with open(bkp_fn, mode='rb') as f:\n",
    "            files[fn] = pickle.load(f)\n",
    "    else:\n",
    "        with open(fn, mode='rb') as f:\n",
    "            files[fn] = pickle.load(f)"
   ]
  },
  {
   "cell_type": "code",
   "execution_count": 6,
   "id": "6f6c4510",
   "metadata": {},
   "outputs": [
    {
     "data": {
      "text/plain": [
       "{'Problem': '#FF4081',\n",
       " 'Finding': '#00BCD4',\n",
       " 'Procedure': '#4CAF50',\n",
       " 'Medicine': '#FFC107',\n",
       " 'Medical Device': '#FF5722',\n",
       " 'Lab Data': '#CDDC39',\n",
       " 'Anatomical Structure': '#673AB7',\n",
       " 'Body Function': '#2196F3',\n",
       " 'Other': '#9E9E9E'}"
      ]
     },
     "execution_count": 6,
     "metadata": {},
     "output_type": "execute_result"
    }
   ],
   "source": [
    "files['color_lookup.pk']"
   ]
  },
  {
   "cell_type": "code",
   "execution_count": 7,
   "id": "a6c16a27",
   "metadata": {},
   "outputs": [],
   "source": [
    "symptoms_and_diagnoses_colors = {\n",
    "    'Symptom': '#FF4081',\n",
    "    'Diagnosis': '#00BCD4',\n",
    "    'Other': '#9E9E9E'\n",
    "}\n",
    "remap = {\n",
    "    'Problem': 'Symptom',\n",
    "    'Finding': 'Diagnosis',\n",
    "}\n",
    "extra_additions = {\n",
    "    'T020': 'Diagnosis',\n",
    "    'T190': 'Diagnosis',\n",
    "}"
   ]
  },
  {
   "cell_type": "code",
   "execution_count": 8,
   "id": "692a5535",
   "metadata": {},
   "outputs": [],
   "source": [
    "# See all semantic types here: https://metamap.nlm.nih.gov/Docs/SemanticTypes_2018AB.txt\n",
    "\n",
    "symptoms_and_diagnoses_type_tui_lookup = files['type_tui_lookup.pk']\n",
    "symptoms_and_diagnoses_type_tui_lookup[1] = {\n",
    "    tui: remap[term] for tui, term in symptoms_and_diagnoses_type_tui_lookup[1].items() if term in remap\n",
    "}\n",
    "symptoms_and_diagnoses_type_tui_lookup[1].update(extra_additions)"
   ]
  },
  {
   "cell_type": "code",
   "execution_count": 9,
   "id": "b9269145",
   "metadata": {},
   "outputs": [],
   "source": [
    "for fn in ('color_lookup.pk', 'type_tui_lookup.pk'):\n",
    "    bkp_fn = f\"{fn}.bkp\"\n",
    "    if not os.path.isfile(bkp_fn): copyfile(fn, f\"{fn}.bkp\")\n",
    "with open('color_lookup.pk', mode='wb') as f:\n",
    "    pickle.dump(symptoms_and_diagnoses_colors, f)\n",
    "with open('type_tui_lookup.pk', mode='wb') as f:\n",
    "    pickle.dump(symptoms_and_diagnoses_type_tui_lookup, f)"
   ]
  }
 ],
 "metadata": {
  "kernelspec": {
   "display_name": "Python 3",
   "language": "python",
   "name": "python3"
  },
  "language_info": {
   "codemirror_mode": {
    "name": "ipython",
    "version": 3
   },
   "file_extension": ".py",
   "mimetype": "text/x-python",
   "name": "python",
   "nbconvert_exporter": "python",
   "pygments_lexer": "ipython3",
   "version": "3.9.4"
  }
 },
 "nbformat": 4,
 "nbformat_minor": 5
}
